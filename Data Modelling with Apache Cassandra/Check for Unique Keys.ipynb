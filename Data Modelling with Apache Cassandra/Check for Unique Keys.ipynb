{
 "cells": [
  {
   "cell_type": "markdown",
   "metadata": {
    "editable": true
   },
   "source": [
    "# TO CHECK FOR UNIQUE COMPOSITE KEYS FOR EACH TABLE"
   ]
  },
  {
   "cell_type": "code",
   "execution_count": 2,
   "metadata": {
    "editable": true
   },
   "outputs": [],
   "source": [
    "import pandas as pd"
   ]
  },
  {
   "cell_type": "code",
   "execution_count": 7,
   "metadata": {
    "editable": true
   },
   "outputs": [
    {
     "data": {
      "text/plain": [
       "Index(['artist', 'firstName', 'gender', 'itemInSession', 'lastName', 'length',\n",
       "       'level', 'location', 'sessionId', 'song', 'userId'],\n",
       "      dtype='object')"
      ]
     },
     "execution_count": 7,
     "metadata": {},
     "output_type": "execute_result"
    }
   ],
   "source": [
    "df = pd.read_csv('event_datafile_new.csv')\n",
    "df.head()\n",
    "len(df)\n",
    "df.columns"
   ]
  },
  {
   "cell_type": "code",
   "execution_count": 8,
   "metadata": {
    "editable": true
   },
   "outputs": [
    {
     "data": {
      "text/plain": [
       "96"
      ]
     },
     "execution_count": 8,
     "metadata": {},
     "output_type": "execute_result"
    }
   ],
   "source": [
    "df['userId'].nunique()\n",
    "#since userId is not unique to each row, it should only be used when unique user data is required"
   ]
  },
  {
   "cell_type": "code",
   "execution_count": 9,
   "metadata": {
    "editable": true
   },
   "outputs": [
    {
     "data": {
      "text/plain": [
       "5190"
      ]
     },
     "execution_count": 9,
     "metadata": {},
     "output_type": "execute_result"
    }
   ],
   "source": [
    "df['song'].nunique()"
   ]
  },
  {
   "cell_type": "code",
   "execution_count": 10,
   "metadata": {
    "editable": true
   },
   "outputs": [
    {
     "data": {
      "text/plain": [
       "776"
      ]
     },
     "execution_count": 10,
     "metadata": {},
     "output_type": "execute_result"
    }
   ],
   "source": [
    "df['sessionId'].nunique()"
   ]
  },
  {
   "cell_type": "code",
   "execution_count": 11,
   "metadata": {
    "editable": true
   },
   "outputs": [
    {
     "data": {
      "text/plain": [
       "6806"
      ]
     },
     "execution_count": 11,
     "metadata": {},
     "output_type": "execute_result"
    }
   ],
   "source": [
    "#To check if 'sessionId' and 'itemInSession' is a unique composite key\n",
    "df['item_in_session_id'] = df['sessionId'].astype(str) + df['itemInSession'].astype(str)\n",
    "df['item_in_session_id'].nunique()\n"
   ]
  },
  {
   "cell_type": "code",
   "execution_count": 13,
   "metadata": {
    "editable": true
   },
   "outputs": [
    {
     "data": {
      "text/plain": [
       "6820"
      ]
     },
     "execution_count": 13,
     "metadata": {},
     "output_type": "execute_result"
    }
   ],
   "source": [
    "#Since df['item_in_session_id'] < len(df), it is not unique\n",
    "\n",
    "#Try composite key  'sessionId', 'itemInSession' and 'song'\n",
    "\n",
    "df['userId_item_in_session_id'] = df['userId'].astype(str) + df['sessionId'].astype(str) + df['itemInSession'].astype(str)\n",
    "df['userId_item_in_session_id'].nunique()\n",
    "\n",
    "#Since df['userId_item_in_session_id'].nunique = len(df), it is unique key"
   ]
  },
  {
   "cell_type": "code",
   "execution_count": 17,
   "metadata": {
    "editable": true
   },
   "outputs": [
    {
     "data": {
      "text/plain": [
       "6786"
      ]
     },
     "execution_count": 17,
     "metadata": {},
     "output_type": "execute_result"
    }
   ],
   "source": [
    "#Try composite key 'song', 'userId' and 'sessionId'\n",
    "df['song_user_sessionId'] = df['song'].astype(str) + df['userId'].astype(str) + df['sessionId'].astype(str)\n",
    "df['song_user_sessionId'].nunique()"
   ]
  },
  {
   "cell_type": "code",
   "execution_count": 20,
   "metadata": {
    "editable": true
   },
   "outputs": [
    {
     "data": {
      "text/plain": [
       "6820"
      ]
     },
     "execution_count": 20,
     "metadata": {},
     "output_type": "execute_result"
    }
   ],
   "source": [
    "#Try composite key 'song', 'userId', 'itemInsession' and 'sessionId'\n",
    "df['song_user_itemInSessionId'] = df['song'].astype(str) + df['userId'].astype(str) + df['itemInSession'].astype(str) + df['sessionId'].astype(str)\n",
    "df['song_user_itemInSessionId'].nunique()\n",
    "\n",
    "#Since df['song_user_itemInSessionId'].nunique() = len(df), it is a unique key"
   ]
  },
  {
   "cell_type": "code",
   "execution_count": null,
   "metadata": {
    "editable": true
   },
   "outputs": [],
   "source": []
  }
 ],
 "metadata": {
  "kernelspec": {
   "display_name": "Python 3",
   "language": "python",
   "name": "python3"
  },
  "language_info": {
   "codemirror_mode": {
    "name": "ipython",
    "version": 3
   },
   "file_extension": ".py",
   "mimetype": "text/x-python",
   "name": "python",
   "nbconvert_exporter": "python",
   "pygments_lexer": "ipython3",
   "version": "3.6.3"
  }
 },
 "nbformat": 4,
 "nbformat_minor": 4
}
